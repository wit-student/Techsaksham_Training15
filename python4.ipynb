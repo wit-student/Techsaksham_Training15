{
 "cells": [
  {
   "cell_type": "code",
   "execution_count": 14,
   "id": "5d822ac9-e359-4599-bd5d-d0762a127203",
   "metadata": {},
   "outputs": [
    {
     "name": "stdout",
     "output_type": "stream",
     "text": [
      "21\n"
     ]
    }
   ],
   "source": [
    "class student:\n",
    "    def __init__(self,id_no):\n",
    "        self.id_no=id_no\n",
    "student=student(21)\n",
    "student.id_no=20\n",
    "print(student.id_no)\n",
    "        \n",
    "    "
   ]
  },
  {
   "cell_type": "code",
   "execution_count": null,
   "id": "0627469b-28ff-4ac3-9a1d-493887496d61",
   "metadata": {},
   "outputs": [],
   "source": [
    "class Point:\n",
    "    def __init__(self,x,y):\n",
    "        self.x=x\n",
    "        self.y=y\n",
    "    def __add__(self,other):\n",
    "        return Point(self.x+other.x,self.y+other.y)\n",
    "        \n",
    "\n",
    "\n",
    "def __eq__(self,other):\n",
    "    return self.x=other.x and self."
   ]
  },
  {
   "cell_type": "code",
   "execution_count": 15,
   "id": "2326d8ab-e389-4077-80f7-32fd20fc7d91",
   "metadata": {},
   "outputs": [
    {
     "data": {
      "text/plain": [
       "['__add__',\n",
       " '__class__',\n",
       " '__contains__',\n",
       " '__delattr__',\n",
       " '__dir__',\n",
       " '__doc__',\n",
       " '__eq__',\n",
       " '__format__',\n",
       " '__ge__',\n",
       " '__getattribute__',\n",
       " '__getitem__',\n",
       " '__getnewargs__',\n",
       " '__getstate__',\n",
       " '__gt__',\n",
       " '__hash__',\n",
       " '__init__',\n",
       " '__init_subclass__',\n",
       " '__iter__',\n",
       " '__le__',\n",
       " '__len__',\n",
       " '__lt__',\n",
       " '__mod__',\n",
       " '__mul__',\n",
       " '__ne__',\n",
       " '__new__',\n",
       " '__reduce__',\n",
       " '__reduce_ex__',\n",
       " '__repr__',\n",
       " '__rmod__',\n",
       " '__rmul__',\n",
       " '__setattr__',\n",
       " '__sizeof__',\n",
       " '__str__',\n",
       " '__subclasshook__',\n",
       " 'capitalize',\n",
       " 'casefold',\n",
       " 'center',\n",
       " 'count',\n",
       " 'encode',\n",
       " 'endswith',\n",
       " 'expandtabs',\n",
       " 'find',\n",
       " 'format',\n",
       " 'format_map',\n",
       " 'index',\n",
       " 'isalnum',\n",
       " 'isalpha',\n",
       " 'isascii',\n",
       " 'isdecimal',\n",
       " 'isdigit',\n",
       " 'isidentifier',\n",
       " 'islower',\n",
       " 'isnumeric',\n",
       " 'isprintable',\n",
       " 'isspace',\n",
       " 'istitle',\n",
       " 'isupper',\n",
       " 'join',\n",
       " 'ljust',\n",
       " 'lower',\n",
       " 'lstrip',\n",
       " 'maketrans',\n",
       " 'partition',\n",
       " 'removeprefix',\n",
       " 'removesuffix',\n",
       " 'replace',\n",
       " 'rfind',\n",
       " 'rindex',\n",
       " 'rjust',\n",
       " 'rpartition',\n",
       " 'rsplit',\n",
       " 'rstrip',\n",
       " 'split',\n",
       " 'splitlines',\n",
       " 'startswith',\n",
       " 'strip',\n",
       " 'swapcase',\n",
       " 'title',\n",
       " 'translate',\n",
       " 'upper',\n",
       " 'zfill']"
      ]
     },
     "execution_count": 15,
     "metadata": {},
     "output_type": "execute_result"
    }
   ],
   "source": [
    "dir(str)"
   ]
  },
  {
   "cell_type": "code",
   "execution_count": 16,
   "id": "50c12b72-bce6-45f4-89c1-0673cd0e17ba",
   "metadata": {},
   "outputs": [
    {
     "data": {
      "text/plain": [
       "'PythonPython'"
      ]
     },
     "execution_count": 16,
     "metadata": {},
     "output_type": "execute_result"
    }
   ],
   "source": [
    "class Text(str):\n",
    "    def duplicate(self):\n",
    "        return self+self\n",
    "text=Text(\"Python\")        \n",
    "text.duplicate()        \n",
    "    "
   ]
  },
  {
   "cell_type": "code",
   "execution_count": null,
   "id": "7ccf9a7b-2992-4343-b443-9dbcec92d283",
   "metadata": {},
   "outputs": [],
   "source": [
    "yes 4, no 100->leap   \n",
    "yes 4,yes 100,yes 400->leap\n",
    "\n",
    "\n",
    "pizza order\n",
    "samall\n",
    "large\n",
    "big\n",
    "Treasure map\n"
   ]
  },
  {
   "cell_type": "code",
   "execution_count": 2,
   "id": "4563156b-5a5d-48a8-86e2-14d15f4649fe",
   "metadata": {},
   "outputs": [
    {
     "name": "stdin",
     "output_type": "stream",
     "text": [
      "enter a year you want: 3333\n"
     ]
    },
    {
     "name": "stdout",
     "output_type": "stream",
     "text": [
      "it is not leap year!!\n"
     ]
    }
   ],
   "source": [
    "#leap year\n",
    "year=int(input(\"enter a year you want:\"))\n",
    "if(year%4==0):\n",
    "    if(year%100==0):\n",
    "          if(year%400==0):\n",
    "              print(\"it is leap year\")\n",
    "          else:\n",
    "              print(\" not leap year!!\")\n",
    "    else:\n",
    "        print(\"leap year\")\n",
    "else:\n",
    "      print(\"it is not leap year!!\")\n",
    "\n",
    "\n",
    "\n",
    "\n",
    "\n",
    "         "
   ]
  },
  {
   "cell_type": "code",
   "execution_count": 9,
   "id": "9e04502c-4083-42ba-8db3-a80d847d6424",
   "metadata": {},
   "outputs": [
    {
     "name": "stdin",
     "output_type": "stream",
     "text": [
      "enter height 1.60\n",
      "enter weight 65\n"
     ]
    },
    {
     "name": "stdout",
     "output_type": "stream",
     "text": [
      "normal weight 25.0\n"
     ]
    }
   ],
   "source": [
    "#bmi\n",
    "height=float(input(\"enter height\"))\n",
    "weight=float(input(\"enter weight\"))\n",
    "bmi=weight//(height*height)\n",
    "if(bmi==18.5):\n",
    "    print(\"You are underweight\",bmi)\n",
    "elif(bmi>=18.5 and bmi<=25):\n",
    "    print(\"normal weight\",bmi)\n",
    "elif(bmi>=23 and bmi<30):\n",
    "    print(\"slightly overweight\",bmi)\n",
    "elif(bmi>=30 and bmi<=35):\n",
    "    print(\"you are obese!\",bmi)\n",
    "else:\n",
    "    print(\"you are clinicaly obese\",bmi)\n",
    "           \n"
   ]
  },
  {
   "cell_type": "code",
   "execution_count": 13,
   "id": "8adf1352-0e4d-4413-a368-95eb75e81f01",
   "metadata": {},
   "outputs": [
    {
     "ename": "IndentationError",
     "evalue": "unexpected indent (142839056.py, line 14)",
     "output_type": "error",
     "traceback": [
      "\u001b[1;36m  Cell \u001b[1;32mIn[13], line 14\u001b[1;36m\u001b[0m\n\u001b[1;33m    if(pepperoni==\"yes\"):\u001b[0m\n\u001b[1;37m    ^\u001b[0m\n\u001b[1;31mIndentationError\u001b[0m\u001b[1;31m:\u001b[0m unexpected indent\n"
     ]
    }
   ],
   "source": [
    "give_size=input(\"enter size of pizza:\")\n",
    "bill=0\n",
    "pepperoni=input(\"enter pepperoni\")\n",
    "if(give_size==\"small size\"):\n",
    "    bill=15\n",
    "    print(\"bill=\",bill,\"dollors\")\n",
    "    if(pepperoni==\"yes\"):\n",
    "        bill+=2\n",
    "        print(\"total bill is\",bill)\n",
    "    \n",
    "elif(give_size==\"medium size\"):\n",
    "    bill=20\n",
    "    print(\"bill=\",bill,\"dollors\")\n",
    "     if(pepperoni==\"yes\"):\n",
    "        bill+=3\n",
    "        print(\"total bill is\",bill)    \n",
    "elif(give_size==\"large pizza\"):\n",
    "    bill=25\n",
    "    print(\"bill=\",bill,\"dollors\")\n",
    "     if(pepperoni==\"yes\"):\n",
    "        bill+=3\n",
    "        print(\"total bill is\",bill) \n",
    "\n",
    "elif(pepperoni==yes and give_size==\"small size\"):\n",
    "    bill=1\n",
    "     print(\"bill=\",bill,\"dollors\")\n",
    "elif(pepperoni==yes and give_size==\"medium size\"):\n",
    "    bill=20+3\n",
    "    print(\"bill=\",bill,\"dollors\")\n",
    "elif(pepperoni==yes and give_size==\"large size\"):\n",
    "    bill=25+3\n",
    "    print(\"bill=\",bill,\"dollors\")\n",
    "    \n",
    "   \n"
   ]
  },
  {
   "cell_type": "code",
   "execution_count": 9,
   "id": "83fde34d-b03f-4aab-a42a-610cdcf2b36b",
   "metadata": {},
   "outputs": [
    {
     "name": "stdin",
     "output_type": "stream",
     "text": [
      "enter height: 155\n",
      "enter a age 21\n",
      "enter potatoes: yes\n"
     ]
    },
    {
     "name": "stdout",
     "output_type": "stream",
     "text": [
      "can ride\n",
      "$ 12\n",
      " total bill is $ 15\n"
     ]
    }
   ],
   "source": [
    "# rellercoaster\n",
    "height=int(input(\"enter height:\"))\n",
    "age=int(input(\"enter a age\"))\n",
    "want_potatoes=input(\"enter potatoes:\")\n",
    "bill=0\n",
    "if(height>120):\n",
    "    print(\"can ride\")\n",
    "    if(age<12):\n",
    "        bill=5\n",
    "        print(\"$\",bill)\n",
    "        if(want_potatoes==\"yes\"):\n",
    "            bill+=3\n",
    "            print(\" total bill is $\",bill)           \n",
    "    elif(age>=12 and age<18):\n",
    "        bill=7\n",
    "        print(\"$\",bill)\n",
    "        if(want_potatoes==\"yes\"):\n",
    "            bill+=3\n",
    "            print(\" total bill is $\",bill)\n",
    "    else:\n",
    "        bill=12\n",
    "        print(\"$\",bill)\n",
    "        if(want_potatoes==\"yes\"):\n",
    "            bill+=3\n",
    "            print(\" total bill is $\",bill)\n",
    "        \n",
    "else:\n",
    "    print(\"cant ride\")"
   ]
  },
  {
   "cell_type": "code",
   "execution_count": 7,
   "id": "a6d9a3a4-0864-4df3-81f6-045c5d21ba97",
   "metadata": {},
   "outputs": [
    {
     "name": "stdin",
     "output_type": "stream",
     "text": [
      "enter input1: right\n",
      "entr input2: wait\n",
      "enter input3 blue\n"
     ]
    },
    {
     "name": "stdout",
     "output_type": "stream",
     "text": [
      "game over\n"
     ]
    }
   ],
   "source": [
    "def treasure(user_ch1,user_ch2,user_ch3):\n",
    "    if(user_ch1==\"right\"):\n",
    "        print(\"game over\")\n",
    "        return\n",
    "    elif(user_ch2==\"wait\"):\n",
    "        print(\"attacked by treat game over\")\n",
    "        return\n",
    "    else:\n",
    "        if(user_ch3==\"blue\"):\n",
    "            print(\"enten by beats\")\n",
    "        elif(user_ch3==\"red\"):\n",
    "            print(\"burned by fire\")\n",
    "        elif(user_ch3==\"yellow\"):\n",
    "            print(\"you win\")\n",
    "        else:\n",
    "            print(\"game over\")\n",
    "    \n",
    "user_ch1=input(\"enter input1:\")\n",
    "user_ch2=input(\"entr input2:\")\n",
    "user_ch3=input(\"enter input3\")\n",
    "treasure(user_ch1,user_ch2,user_ch3)"
   ]
  },
  {
   "cell_type": "code",
   "execution_count": null,
   "id": "e659c7d0-4fdc-4723-bc43-c436090ca24a",
   "metadata": {},
   "outputs": [],
   "source": [
    "#using oops concept\n",
    "#1.add workout,2.view workout,3.save data,4.load data,5.exit\n"
   ]
  },
  {
   "cell_type": "code",
   "execution_count": null,
   "id": "201abefd-ed30-466a-86c7-12a68e1bb5b5",
   "metadata": {},
   "outputs": [],
   "source": []
  }
 ],
 "metadata": {
  "kernelspec": {
   "display_name": "Python 3 (ipykernel)",
   "language": "python",
   "name": "python3"
  },
  "language_info": {
   "codemirror_mode": {
    "name": "ipython",
    "version": 3
   },
   "file_extension": ".py",
   "mimetype": "text/x-python",
   "name": "python",
   "nbconvert_exporter": "python",
   "pygments_lexer": "ipython3",
   "version": "3.12.7"
  }
 },
 "nbformat": 4,
 "nbformat_minor": 5
}
