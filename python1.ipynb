{
 "cells": [
  {
   "cell_type": "code",
   "execution_count": 1,
   "id": "c2587426-cf7a-4518-b349-c875d6952e32",
   "metadata": {},
   "outputs": [
    {
     "name": "stdout",
     "output_type": "stream",
     "text": [
      "hello\n"
     ]
    }
   ],
   "source": [
    "print(\"hello\")"
   ]
  },
  {
   "cell_type": "code",
   "execution_count": 2,
   "id": "4d261410-464d-46bb-a2e1-497a774af9df",
   "metadata": {},
   "outputs": [
    {
     "data": {
      "text/plain": [
       "'hello,welcome to MIZORAM UNIVERSITY'"
      ]
     },
     "execution_count": 2,
     "metadata": {},
     "output_type": "execute_result"
    }
   ],
   "source": [
    "\"hello,welcome to MIZORAM UNIVERSITY\"\n"
   ]
  },
  {
   "cell_type": "code",
   "execution_count": 7,
   "id": "bcf87bf7-d9b8-4c24-9c06-66616ebece47",
   "metadata": {},
   "outputs": [
    {
     "name": "stdout",
     "output_type": "stream",
     "text": [
      "hello\n",
      "welcome to FDP \n",
      "on AI\n",
      "\n",
      "\n",
      "i am sakshi kapse\n"
     ]
    }
   ],
   "source": [
    "print(\"hello\")\n",
    "print(\"welcome to FDP \\non AI\")\n",
    "print(\"\\n\")\n",
    "print(\"i am sakshi kapse\")\n"
   ]
  },
  {
   "cell_type": "code",
   "execution_count": 12,
   "id": "48b1d320-993c-4725-9d8b-020c1f9540a6",
   "metadata": {},
   "outputs": [
    {
     "name": "stdout",
     "output_type": "stream",
     "text": [
      "6\n"
     ]
    }
   ],
   "source": [
    "str=\"sakshi\"\n",
    "print(len(str))"
   ]
  },
  {
   "cell_type": "code",
   "execution_count": 14,
   "id": "f8bf2095-c34f-4ff1-bc82-2ac029713d23",
   "metadata": {},
   "outputs": [
    {
     "data": {
      "text/plain": [
       "'i'"
      ]
     },
     "execution_count": 14,
     "metadata": {},
     "output_type": "execute_result"
    }
   ],
   "source": [
    "str[0]\n",
    "str[5]"
   ]
  },
  {
   "cell_type": "code",
   "execution_count": 15,
   "id": "d9770676-31a5-4d2f-9884-a5d85c58f01c",
   "metadata": {},
   "outputs": [
    {
     "data": {
      "text/plain": [
       "'akshi'"
      ]
     },
     "execution_count": 15,
     "metadata": {},
     "output_type": "execute_result"
    }
   ],
   "source": [
    "str[1:]\n"
   ]
  },
  {
   "cell_type": "code",
   "execution_count": 16,
   "id": "c5440ab0-31c4-41e5-8ed1-b09c298173ca",
   "metadata": {},
   "outputs": [
    {
     "data": {
      "text/plain": [
       "'kshi'"
      ]
     },
     "execution_count": 16,
     "metadata": {},
     "output_type": "execute_result"
    }
   ],
   "source": [
    "str[2:]"
   ]
  },
  {
   "cell_type": "code",
   "execution_count": 17,
   "id": "05e15954-72e4-4639-934a-d532f966558b",
   "metadata": {},
   "outputs": [
    {
     "data": {
      "text/plain": [
       "'saks'"
      ]
     },
     "execution_count": 17,
     "metadata": {},
     "output_type": "execute_result"
    }
   ],
   "source": [
    "str[:4]\n"
   ]
  },
  {
   "cell_type": "code",
   "execution_count": 18,
   "id": "4d9684ae-9331-4577-af26-17f9d1b45a98",
   "metadata": {},
   "outputs": [
    {
     "data": {
      "text/plain": [
       "'sakshi'"
      ]
     },
     "execution_count": 18,
     "metadata": {},
     "output_type": "execute_result"
    }
   ],
   "source": [
    "str[:]"
   ]
  },
  {
   "cell_type": "code",
   "execution_count": 24,
   "id": "cc9506cf-0812-4d2b-8b29-ffa3b79cfe0a",
   "metadata": {},
   "outputs": [],
   "source": [
    "str=str +',i am srushti'"
   ]
  },
  {
   "cell_type": "code",
   "execution_count": 26,
   "id": "135f3cfe-897f-428a-9c63-6337a34e7cf1",
   "metadata": {},
   "outputs": [
    {
     "data": {
      "text/plain": [
       "'SAKSHI,I AM SRUSHTI,I AM SRUSHTI'"
      ]
     },
     "execution_count": 26,
     "metadata": {},
     "output_type": "execute_result"
    }
   ],
   "source": [
    "str.upper()"
   ]
  },
  {
   "cell_type": "code",
   "execution_count": 21,
   "id": "7fcab79d-3884-4237-8be0-a540e70399af",
   "metadata": {},
   "outputs": [
    {
     "data": {
      "text/plain": [
       "'sakshi'"
      ]
     },
     "execution_count": 21,
     "metadata": {},
     "output_type": "execute_result"
    }
   ],
   "source": [
    "str.lower()"
   ]
  },
  {
   "cell_type": "code",
   "execution_count": 25,
   "id": "15a8bdd1-b660-4823-9055-3c3141f035bb",
   "metadata": {},
   "outputs": [
    {
     "data": {
      "text/plain": [
       "['sakshi,i', 'am', 'srushti,i', 'am', 'srushti']"
      ]
     },
     "execution_count": 25,
     "metadata": {},
     "output_type": "execute_result"
    }
   ],
   "source": [
    "str.split()"
   ]
  },
  {
   "cell_type": "code",
   "execution_count": 27,
   "id": "a8241c85-95a2-4673-a026-d85ab5d7c401",
   "metadata": {},
   "outputs": [
    {
     "name": "stdout",
     "output_type": "stream",
     "text": [
      "enter name here Abdul then also Aziz\n"
     ]
    }
   ],
   "source": [
    "print('enter name here {} then also {}' .format('Abdul','Aziz'))"
   ]
  },
  {
   "cell_type": "code",
   "execution_count": 30,
   "id": "25aea05e-ec32-49bf-b86a-313edca57062",
   "metadata": {},
   "outputs": [
    {
     "name": "stdout",
     "output_type": "stream",
     "text": [
      "the colours are black brown red\n"
     ]
    }
   ],
   "source": [
    "print('the colours are {2} {1} {0}' .format('red','brown','black'))"
   ]
  },
  {
   "cell_type": "code",
   "execution_count": 32,
   "id": "e74d5fa8-23ce-4a06-ab83-c6f23bcb03af",
   "metadata": {},
   "outputs": [
    {
     "name": "stdout",
     "output_type": "stream",
     "text": [
      "first object : 1,second object :two,third object :three\n"
     ]
    }
   ],
   "source": [
    "print('first object : {a},second object :{b},third object :{c}'.format(a=1,b='two',c='three'))"
   ]
  },
  {
   "cell_type": "code",
   "execution_count": 33,
   "id": "d03e3368-3fe3-49c9-8220-41298caa7920",
   "metadata": {},
   "outputs": [
    {
     "data": {
      "text/plain": [
       "[1, 2, 3, 4, 5]"
      ]
     },
     "execution_count": 33,
     "metadata": {},
     "output_type": "execute_result"
    }
   ],
   "source": [
    "#List\n",
    "my_list=[1,2,3,4,5]\n",
    "my_list"
   ]
  },
  {
   "cell_type": "code",
   "execution_count": 50,
   "id": "111b447c-7947-4b71-8468-7fb28308c3ee",
   "metadata": {},
   "outputs": [
    {
     "data": {
      "text/plain": [
       "['educat', 3, 10.2, 'A', 32, 3]"
      ]
     },
     "execution_count": 50,
     "metadata": {},
     "output_type": "execute_result"
    }
   ],
   "source": [
    "my_list=['educat',3,10.2,'A',32,3]\n",
    "my_list"
   ]
  },
  {
   "cell_type": "code",
   "execution_count": 51,
   "id": "94cc5f29-83d3-412b-b927-b26237987ff1",
   "metadata": {},
   "outputs": [
    {
     "data": {
      "text/plain": [
       "6"
      ]
     },
     "execution_count": 51,
     "metadata": {},
     "output_type": "execute_result"
    }
   ],
   "source": [
    "len(my_list)"
   ]
  },
  {
   "cell_type": "code",
   "execution_count": 52,
   "id": "866b5978-277f-44ae-a307-41bde4658afd",
   "metadata": {},
   "outputs": [
    {
     "data": {
      "text/plain": [
       "'educat'"
      ]
     },
     "execution_count": 52,
     "metadata": {},
     "output_type": "execute_result"
    }
   ],
   "source": [
    "my_list[0]"
   ]
  },
  {
   "cell_type": "code",
   "execution_count": 53,
   "id": "95bc722d-ff35-44ec-bf89-0d3d46a8552c",
   "metadata": {},
   "outputs": [
    {
     "data": {
      "text/plain": [
       "[3, 10.2, 'A', 32, 3]"
      ]
     },
     "execution_count": 53,
     "metadata": {},
     "output_type": "execute_result"
    }
   ],
   "source": [
    "my_list[1:]"
   ]
  },
  {
   "cell_type": "code",
   "execution_count": 54,
   "id": "4bf6dddc-67d7-48e6-87fc-d29c68ac24a3",
   "metadata": {},
   "outputs": [
    {
     "data": {
      "text/plain": [
       "['educat', 3, 10.2, 'A', 32, 3, 'new item']"
      ]
     },
     "execution_count": 54,
     "metadata": {},
     "output_type": "execute_result"
    }
   ],
   "source": [
    "my_list + ['new item']"
   ]
  },
  {
   "cell_type": "code",
   "execution_count": 55,
   "id": "36de39aa-974d-4b96-92b1-cc0a22992821",
   "metadata": {},
   "outputs": [
    {
     "data": {
      "text/plain": [
       "['educat', 3, 10.2, 'A', 32, 3]"
      ]
     },
     "execution_count": 55,
     "metadata": {},
     "output_type": "execute_result"
    }
   ],
   "source": [
    "my_list"
   ]
  },
  {
   "cell_type": "code",
   "execution_count": 56,
   "id": "95703988-45ee-44e3-aabf-0dc503f7438f",
   "metadata": {},
   "outputs": [
    {
     "data": {
      "text/plain": [
       "['educat', 3, 10.2, 'A', 32, 3, 'add new item for list']"
      ]
     },
     "execution_count": 56,
     "metadata": {},
     "output_type": "execute_result"
    }
   ],
   "source": [
    "my_list=my_list + ['add new item for list']\n",
    "my_list"
   ]
  },
  {
   "cell_type": "code",
   "execution_count": 58,
   "id": "809e70dc-9676-47bf-8095-9a307dfdae58",
   "metadata": {},
   "outputs": [
    {
     "data": {
      "text/plain": [
       "['educat', 3, 10.2, 'A', 32, 3, 'add new item for list', 'append', 'append']"
      ]
     },
     "execution_count": 58,
     "metadata": {},
     "output_type": "execute_result"
    }
   ],
   "source": [
    "my_list.append('append')\n",
    "my_list"
   ]
  },
  {
   "cell_type": "code",
   "execution_count": 59,
   "id": "06445a3d-48b0-415e-9650-77287999c24f",
   "metadata": {},
   "outputs": [
    {
     "data": {
      "text/plain": [
       "'append'"
      ]
     },
     "execution_count": 59,
     "metadata": {},
     "output_type": "execute_result"
    }
   ],
   "source": [
    "my_list.pop() # delete last element of list"
   ]
  },
  {
   "cell_type": "code",
   "execution_count": 60,
   "id": "a1b826d1-4649-4404-8174-9a25ee1b1d2a",
   "metadata": {},
   "outputs": [
    {
     "data": {
      "text/plain": [
       "'educat'"
      ]
     },
     "execution_count": 60,
     "metadata": {},
     "output_type": "execute_result"
    }
   ],
   "source": [
    "my_list.pop(0) #delete by adding idex in pop method"
   ]
  },
  {
   "cell_type": "code",
   "execution_count": 62,
   "id": "46acffea-7b05-400f-bdef-cc97a5abe6c4",
   "metadata": {},
   "outputs": [
    {
     "data": {
      "text/plain": [
       "[3, 10.2, 'A', 32, 3, 'add new item for list', 'append']"
      ]
     },
     "execution_count": 62,
     "metadata": {},
     "output_type": "execute_result"
    }
   ],
   "source": [
    "my_list"
   ]
  },
  {
   "cell_type": "code",
   "execution_count": 64,
   "id": "efa54fee-d694-4847-acfd-2f20eb87a6f9",
   "metadata": {},
   "outputs": [
    {
     "data": {
      "text/plain": [
       "{'key1': 'value1', 'key2': 'value2', 'key3': 'value3'}"
      ]
     },
     "execution_count": 64,
     "metadata": {},
     "output_type": "execute_result"
    }
   ],
   "source": [
    "#dictocnary\n",
    "Dict={'key1':'value1','key2':'value2','key3':'value3'}\n",
    "Dict"
   ]
  },
  {
   "cell_type": "code",
   "execution_count": 65,
   "id": "97fb5bde-da43-49ca-a98d-951defca8ee7",
   "metadata": {},
   "outputs": [
    {
     "data": {
      "text/plain": [
       "{'key1': 123, 'key2': [1, 2, 3], 'key3': ['edu', 'net']}"
      ]
     },
     "execution_count": 65,
     "metadata": {},
     "output_type": "execute_result"
    }
   ],
   "source": [
    "my_dict={'key1':123, 'key2':[1,2,3],'key3':['edu','net']}\n",
    "my_dict"
   ]
  },
  {
   "cell_type": "code",
   "execution_count": 67,
   "id": "94b68faf-ee70-45fd-bc42-bb94180ed9fc",
   "metadata": {},
   "outputs": [
    {
     "data": {
      "text/plain": [
       "3"
      ]
     },
     "execution_count": 67,
     "metadata": {},
     "output_type": "execute_result"
    }
   ],
   "source": [
    "my_dict['key2'][2]"
   ]
  },
  {
   "cell_type": "code",
   "execution_count": 68,
   "id": "30884514-c1bf-410f-969c-8c7a300720cd",
   "metadata": {},
   "outputs": [
    {
     "data": {
      "text/plain": [
       "'EDU'"
      ]
     },
     "execution_count": 68,
     "metadata": {},
     "output_type": "execute_result"
    }
   ],
   "source": [
    "my_dict['key3'][0].upper()"
   ]
  },
  {
   "cell_type": "code",
   "execution_count": 70,
   "id": "d39e1066-fd42-4493-a8f1-e438c63936c1",
   "metadata": {},
   "outputs": [
    {
     "data": {
      "text/plain": [
       "[3, 10.2, 'A', 32, 3, 'add new item for list', 'append']"
      ]
     },
     "execution_count": 70,
     "metadata": {},
     "output_type": "execute_result"
    }
   ],
   "source": [
    "my_dict['key1']=my_dict['key1']+123\n",
    "my_list"
   ]
  },
  {
   "cell_type": "code",
   "execution_count": 74,
   "id": "5de7e990-62bf-4bfd-97cb-b1d1aa9e406c",
   "metadata": {},
   "outputs": [
    {
     "data": {
      "text/plain": [
       "(1, 2, 3, 5, 'sdsj')"
      ]
     },
     "execution_count": 74,
     "metadata": {},
     "output_type": "execute_result"
    }
   ],
   "source": [
    "tuple=(1,2,3,5,'sdsj')\n",
    "tuple"
   ]
  },
  {
   "cell_type": "code",
   "execution_count": 75,
   "id": "a0ff5d40-8079-41c8-94a0-a5d7fd7f2cac",
   "metadata": {},
   "outputs": [
    {
     "data": {
      "text/plain": [
       "5"
      ]
     },
     "execution_count": 75,
     "metadata": {},
     "output_type": "execute_result"
    }
   ],
   "source": [
    "len(tuple)"
   ]
  },
  {
   "cell_type": "code",
   "execution_count": 76,
   "id": "66fa5f0c-08ee-4f11-b189-f836131889b8",
   "metadata": {},
   "outputs": [
    {
     "data": {
      "text/plain": [
       "'sdsj'"
      ]
     },
     "execution_count": 76,
     "metadata": {},
     "output_type": "execute_result"
    }
   ],
   "source": [
    "tuple[-1] #slicing just like list"
   ]
  },
  {
   "cell_type": "code",
   "execution_count": 77,
   "id": "d5ba2562-fc2c-41a1-8be3-078b73befe3f",
   "metadata": {},
   "outputs": [
    {
     "data": {
      "text/plain": [
       "{1, 2, 3, 4}"
      ]
     },
     "execution_count": 77,
     "metadata": {},
     "output_type": "execute_result"
    }
   ],
   "source": [
    "{1,2,3,4}"
   ]
  },
  {
   "cell_type": "code",
   "execution_count": 78,
   "id": "e1d47d75-0113-40a9-9106-663c7085c953",
   "metadata": {},
   "outputs": [
    {
     "data": {
      "text/plain": [
       "set"
      ]
     },
     "execution_count": 78,
     "metadata": {},
     "output_type": "execute_result"
    }
   ],
   "source": [
    "type({1,3,5,64})"
   ]
  },
  {
   "cell_type": "code",
   "execution_count": 79,
   "id": "618ea159-983b-4b18-8601-e9c7e0669f14",
   "metadata": {},
   "outputs": [],
   "source": [
    "Set=set() #sorted"
   ]
  },
  {
   "cell_type": "code",
   "execution_count": 80,
   "id": "462b8db9-bfea-4774-93b6-bb951fdac995",
   "metadata": {},
   "outputs": [
    {
     "data": {
      "text/plain": [
       "{6, 8, 9}"
      ]
     },
     "execution_count": 80,
     "metadata": {},
     "output_type": "execute_result"
    }
   ],
   "source": [
    "Set.add(9)\n",
    "Set.add(8)\n",
    "Set.add(6)\n",
    "Set"
   ]
  },
  {
   "cell_type": "code",
   "execution_count": 81,
   "id": "b255cc46-3167-43e8-8833-b4ebeb90cb80",
   "metadata": {},
   "outputs": [
    {
     "name": "stdout",
     "output_type": "stream",
     "text": [
      "Yes!It was true\n"
     ]
    }
   ],
   "source": [
    "#if,ilif,else\n",
    "if True:\n",
    "    print(\"Yes!It was true\")"
   ]
  },
  {
   "cell_type": "code",
   "execution_count": 87,
   "id": "bddea3f9-f00e-4721-8662-08f751c01a51",
   "metadata": {},
   "outputs": [
    {
     "name": "stdout",
     "output_type": "stream",
     "text": [
      "i will be printed in any case where False is to x\n"
     ]
    }
   ],
   "source": [
    "x=False\n",
    "if x:\n",
    "    print(\"yes! it was\")\n",
    "else:\n",
    "    print('i will be printed in any case where {} is to x'.format(x));"
   ]
  },
  {
   "cell_type": "code",
   "execution_count": 89,
   "id": "fb353414-b93d-4976-a8bd-72b30c46a21f",
   "metadata": {},
   "outputs": [
    {
     "name": "stdout",
     "output_type": "stream",
     "text": [
      "sakshi\n"
     ]
    }
   ],
   "source": [
    "loc='Andatra pradesh'\n",
    "if loc=='Bangal':\n",
    "   print(\"welcome\")\n",
    "else:\n",
    "    print(\"sakshi\")\n",
    "     \n"
   ]
  },
  {
   "cell_type": "code",
   "execution_count": 8,
   "id": "25d4386d-3591-45a1-a7ec-dc716111a526",
   "metadata": {},
   "outputs": [
    {
     "name": "stdout",
     "output_type": "stream",
     "text": [
      "b is greater\n"
     ]
    }
   ],
   "source": [
    "a=1\n",
    "b=3\n",
    "c=2\n",
    "if a>b and a>c:\n",
    "    print(\"a is greater\")\n",
    "elif(b>a and b>c):\n",
    "    print(\"b is greater\")\n",
    "else:\n",
    "    print(\"c is greater\")\n",
    "    \n",
    "    "
   ]
  },
  {
   "cell_type": "code",
   "execution_count": 9,
   "id": "b855fedd-f107-4116-b77f-bc0eb73d244f",
   "metadata": {},
   "outputs": [
    {
     "name": "stdout",
     "output_type": "stream",
     "text": [
      "49700\n"
     ]
    }
   ],
   "source": [
    "#electricity bill\n",
    "unit=3550\n",
    "if(unit==200):\n",
    "    print(\"Rs.0\")\n",
    "elif(unit==300):\n",
    "    bill=8*unit\n",
    "    print(bill)\n",
    "    \n",
    "elif(unit==500):\n",
    "    bill=11*unit\n",
    "    print(bill)\n",
    "else:\n",
    "    bill=14*3550\n",
    "    print(bill)\n",
    "\n"
   ]
  },
  {
   "cell_type": "code",
   "execution_count": 23,
   "id": "8a0adc67-2d7e-4505-969f-bf715ebda2d2",
   "metadata": {},
   "outputs": [
    {
     "name": "stdout",
     "output_type": "stream",
     "text": [
      "420000.0\n"
     ]
    }
   ],
   "source": [
    "# total=int(input(\"enter total:\"))\n",
    "# savings=int(input(\"enter savings:\"))\n",
    "tax=0\n",
    "total=4500000\n",
    "savings=150000\n",
    "if(savings<200000):\n",
    "    total-=savings\n",
    "    remain=total-savings\n",
    "    remain=remain-1000000\n",
    "    tax=remain*10/100\n",
    "    remain=remain-1200000\n",
    "    tax=tax+remain*20/100\n",
    "    remain=remain-3000000\n",
    "    tax=tax+remain*30/100\n",
    "    print(tax)\n",
    "\n",
    "#next wale questions\n",
    "\n",
    "\n",
    "    \n",
    "\n",
    "\n",
    "\n",
    "\n",
    "\n",
    "\n",
    "            "
   ]
  },
  {
   "cell_type": "code",
   "execution_count": 25,
   "id": "df1cdbb1-2d08-42ed-aa83-3ea620c77c27",
   "metadata": {},
   "outputs": [
    {
     "name": "stdout",
     "output_type": "stream",
     "text": [
      "2\n",
      "4\n"
     ]
    }
   ],
   "source": [
    "list1=[1,2,3,4]\n",
    "for num in list1:\n",
    "    if(num%2==0):\n",
    "        print(num)"
   ]
  },
  {
   "cell_type": "code",
   "execution_count": 39,
   "id": "f9052a84-1ccd-44ad-94e8-e8bee58cf0ef",
   "metadata": {},
   "outputs": [
    {
     "name": "stdout",
     "output_type": "stream",
     "text": [
      "   * \n",
      "  * * \n",
      " * * * \n",
      "* * * * \n"
     ]
    }
   ],
   "source": [
    "\n",
    "n=4\n",
    "for i in range(1,n+1):\n",
    "    print(\" \"*(n-i)+\"* \"*i)\n",
    "  \n",
    "        "
   ]
  },
  {
   "cell_type": "code",
   "execution_count": null,
   "id": "26f19851-e5f5-47dc-9a68-c9dc4222f6ab",
   "metadata": {},
   "outputs": [],
   "source": []
  },
  {
   "cell_type": "code",
   "execution_count": 66,
   "id": "495994bb-a53c-4af7-8575-10ebe0a66f21",
   "metadata": {},
   "outputs": [
    {
     "name": "stdin",
     "output_type": "stream",
     "text": [
      "enter a number 5\n"
     ]
    },
    {
     "name": "stdout",
     "output_type": "stream",
     "text": [
      "1\n",
      "2\n",
      "3\n"
     ]
    }
   ],
   "source": [
    "##### prime number\n",
    "def primenum(num):\n",
    "  \n",
    "    for i in range(2,num):\n",
    "        if(num%i==0):\n",
    "            return False\n",
    "            break\n",
    "    return True        \n",
    "# if(prime==1):\n",
    "#     print(\"number is prime\",num)\n",
    "# else:\n",
    "#     print(\"number is not prime\",num)\n",
    "num=int(input(\"enter a number\")) \n",
    "for i in range(1,num):\n",
    "    if(primenum(i)==True):\n",
    "        print(i)"
   ]
  },
  {
   "cell_type": "code",
   "execution_count": 55,
   "id": "90675dca-6968-4829-be0c-21aa00be32e1",
   "metadata": {
    "scrolled": true
   },
   "outputs": [
    {
     "name": "stdin",
     "output_type": "stream",
     "text": [
      "enter a number 5\n"
     ]
    },
    {
     "name": "stdout",
     "output_type": "stream",
     "text": [
      "0\n",
      "1\n",
      "1\n",
      "2\n",
      "3\n",
      "5\n"
     ]
    }
   ],
   "source": [
    "### fibonacci number\n",
    "\n",
    "ans=0\n",
    "def fibonacci(num):\n",
    "    if(num<=1):\n",
    "        return num\n",
    "    return fibonacci(num-1)+fibonacci(num-2)\n",
    "num=int(input(\"enter a number\"))\n",
    "for i in range(0,num+1): \n",
    "    print(fibonacci(i))    \n",
    "    "
   ]
  },
  {
   "cell_type": "code",
   "execution_count": 60,
   "id": "5b20bc15-9dc7-4d11-ac24-b1a2009f3cec",
   "metadata": {},
   "outputs": [
    {
     "ename": "IndexError",
     "evalue": "list index out of range",
     "output_type": "error",
     "traceback": [
      "\u001b[1;31m---------------------------------------------------------------------------\u001b[0m",
      "\u001b[1;31mIndexError\u001b[0m                                Traceback (most recent call last)",
      "Cell \u001b[1;32mIn[60], line 3\u001b[0m\n\u001b[0;32m      1\u001b[0m \u001b[38;5;28mlist\u001b[39m\u001b[38;5;241m=\u001b[39m[\u001b[38;5;241m1\u001b[39m,\u001b[38;5;241m7\u001b[39m,\u001b[38;5;241m5\u001b[39m,\u001b[38;5;241m8\u001b[39m,\u001b[38;5;241m3\u001b[39m]\n\u001b[0;32m      2\u001b[0m \u001b[38;5;28;01mfor\u001b[39;00m i \u001b[38;5;129;01min\u001b[39;00m \u001b[38;5;28mrange\u001b[39m(\u001b[38;5;241m0\u001b[39m,\u001b[38;5;28mlen\u001b[39m(\u001b[38;5;28mlist\u001b[39m)):\n\u001b[1;32m----> 3\u001b[0m     \u001b[38;5;28;01mif\u001b[39;00m(\u001b[38;5;28mlist\u001b[39m[i]\u001b[38;5;241m>\u001b[39m\u001b[38;5;28mlist\u001b[39m[i\u001b[38;5;241m+\u001b[39m\u001b[38;5;241m1\u001b[39m]):\n\u001b[0;32m      4\u001b[0m         temp\u001b[38;5;241m=\u001b[39m\u001b[38;5;28mlist\u001b[39m[i]\n\u001b[0;32m      5\u001b[0m         \u001b[38;5;28mlist\u001b[39m[i]\u001b[38;5;241m=\u001b[39m\u001b[38;5;28mlist\u001b[39m[i\u001b[38;5;241m+\u001b[39m\u001b[38;5;241m1\u001b[39m]\n",
      "\u001b[1;31mIndexError\u001b[0m: list index out of range"
     ]
    }
   ],
   "source": [
    "list=[1,7,5,8,3]\n",
    "for i in range(0,len(list)):\n",
    "    if(list[i]>list[i+1]):\n",
    "        temp=list[i]\n",
    "        list[i]=list[i+1]\n",
    "        list[i+1]=list[i]\n",
    "print(list)        \n",
    "        \n",
    "        "
   ]
  },
  {
   "cell_type": "code",
   "execution_count": 69,
   "id": "c1b77602-1565-4b68-82d9-b7d018bb9356",
   "metadata": {},
   "outputs": [
    {
     "name": "stdout",
     "output_type": "stream",
     "text": [
      "17\n"
     ]
    }
   ],
   "source": [
    "str=\"walchand institute of technology,solapur,Maharashtra\"\n",
    "count=0\n",
    "for i in range(0,len(str)):\n",
    "    if(str[i]=='a'or str[i]=='e' or str[i]=='i' or str[i]=='o' or str[i]=='u'):\n",
    "        count+=1\n",
    "print(count)        \n",
    "    "
   ]
  },
  {
   "cell_type": "code",
   "execution_count": 1,
   "id": "f13e14c4-aaaf-43bf-8095-49b776e18d8e",
   "metadata": {},
   "outputs": [
    {
     "name": "stdout",
     "output_type": "stream",
     "text": [
      "even w odd a even l odd c even h odd a even n odd d even   odd i even n odd s even t odd i even t odd u even t odd e even   odd o even f odd   even t odd e even c odd h even n odd o even l odd o even g odd y even , odd s even o odd l even a odd p even u odd r even , odd M even a odd h even a odd r even a odd s even h odd t even r odd a "
     ]
    }
   ],
   "source": [
    "\n",
    "str=\"walchand institute of technology,solapur,Maharashtra\"\n",
    "for i in range(0,len(str)):\n",
    "    if(i%2==0):\n",
    "        print(\"even\",str[i],end=\" \")\n",
    "    else:\n",
    "        print(\"odd\",str[i],end=\" \")"
   ]
  },
  {
   "cell_type": "code",
   "execution_count": 3,
   "id": "df4123db-44eb-4171-8db3-401097fe37e1",
   "metadata": {},
   "outputs": [
    {
     "name": "stdout",
     "output_type": "stream",
     "text": [
      "a r t h s a r a h a M , r u p a l o s , y g o l o n h c e t   f o   e t u t i t s n i   d n a h c l a w "
     ]
    }
   ],
   "source": [
    "str=\"walchand institute of technology,solapur,Maharashtra\"\n",
    "for i in range(len(str)-1,-1,-1):\n",
    "    print(str[i] ,end=\" \")\n",
    "\n",
    "    "
   ]
  },
  {
   "cell_type": "code",
   "execution_count": 76,
   "id": "37756da1-0abc-40db-9ede-d7352110969b",
   "metadata": {},
   "outputs": [
    {
     "data": {
      "text/plain": [
       "['walchand', 'institute', 'of', 'technology,solapur,Maharashtra']"
      ]
     },
     "execution_count": 76,
     "metadata": {},
     "output_type": "execute_result"
    }
   ],
   "source": [
    "str=\"walchand institute of technology,solapur,Maharashtra\"\n",
    "str.split()"
   ]
  },
  {
   "cell_type": "code",
   "execution_count": 6,
   "id": "640b00a4-da0b-45be-807b-2303cb86f4ed",
   "metadata": {},
   "outputs": [],
   "source": [
    "\n",
    "def len_function(count,str):\n",
    "    if(count==len(str)):\n",
    "        return count\n",
    "    len_function(count+1,str)    \n",
    "    \n",
    "count=0\n",
    "len_function(count,str)\n",
    "str=\"walchand institute of technology,solapur,Maharashtra\"    \n"
   ]
  },
  {
   "cell_type": "code",
   "execution_count": 21,
   "id": "501c692d-6226-4e11-a60a-611b00728786",
   "metadata": {},
   "outputs": [
    {
     "data": {
      "text/plain": [
       "8"
      ]
     },
     "execution_count": 21,
     "metadata": {},
     "output_type": "execute_result"
    }
   ],
   "source": [
    "def str_len(str,count):\n",
    "  \n",
    "    for i in str:\n",
    "        count=count+1\n",
    "    return count\n",
    "str=\"walchand\"\n",
    "count=0\n",
    "str_len(str,count)            "
   ]
  },
  {
   "cell_type": "code",
   "execution_count": 30,
   "id": "6307664f-f003-49df-a496-53ac21a88059",
   "metadata": {},
   "outputs": [
    {
     "data": {
      "text/plain": [
       "'WALCHANDindia@INSTITUTE@OF@TECHNOLOGYLSOLAPURLmAHARASHTRA'"
      ]
     },
     "execution_count": 30,
     "metadata": {},
     "output_type": "execute_result"
    }
   ],
   "source": [
    "def str_upper(str):\n",
    "    result=''\n",
    "    for i in str:\n",
    "        if(i>='a' and i<='z'):\n",
    "            result+=chr(ord(i)-32)\n",
    "        else:\n",
    "            result+=chr(ord(i)+32) \n",
    "    return result      \n",
    "str=\"walchandINDIA institute of technology,solapur,Maharashtra\" \n",
    "str_upper(str)"
   ]
  },
  {
   "cell_type": "code",
   "execution_count": 39,
   "id": "bf2bbaea-c73c-4695-b330-a0e5e50a59c6",
   "metadata": {},
   "outputs": [
    {
     "name": "stdout",
     "output_type": "stream",
     "text": [
      "1 2 3 4 5 6 7 8 9 10 "
     ]
    }
   ],
   "source": [
    "i=1\n",
    "while(i!=11):\n",
    "    print(i , end=\" \")\n",
    "    i+=1\n",
    "\n"
   ]
  },
  {
   "cell_type": "code",
   "execution_count": null,
   "id": "4e0f05b2-d2ba-400a-a0d1-5ca931bbc901",
   "metadata": {},
   "outputs": [],
   "source": [
    "\n",
    "            \n",
    "            "
   ]
  },
  {
   "cell_type": "code",
   "execution_count": 9,
   "id": "909b8cdc-08c2-48a4-93eb-bef916fcd072",
   "metadata": {},
   "outputs": [
    {
     "name": "stdout",
     "output_type": "stream",
     "text": [
      "1 is True\n",
      "2 is None\n",
      "3 is True\n",
      "4 is False\n",
      "5 is True\n"
     ]
    }
   ],
   "source": [
    "#prime number\n",
    "def check_prime(num):\n",
    "    i=2\n",
    "  \n",
    "    while(i!=num):\n",
    "        if(num%i==0):\n",
    "            return False\n",
    "        else:\n",
    "            return True\n",
    "        i+=1    \n",
    " \n",
    "num=5   \n",
    "for k in range(1,num+1):\n",
    "    print(k ,\"is\" ,check_prime(k))"
   ]
  },
  {
   "cell_type": "code",
   "execution_count": 6,
   "id": "9bf3ac90-b494-4498-bbcf-7b40cd3fe93b",
   "metadata": {},
   "outputs": [
    {
     "name": "stdout",
     "output_type": "stream",
     "text": [
      "1 = a 3 = c 5 = a 7 = d 9 = N 11 = I 13 =   15 = n 17 = t 19 = t 21 = t 23 =   25 = f 27 = t 29 = c 31 = n 33 = l 35 = g 37 = , 39 = o 41 = a 43 = u 45 = , 47 = a 49 = a 51 = a 53 = h 55 = r "
     ]
    }
   ],
   "source": [
    "#odd position characters\n",
    "def odd_pos_char(str):\n",
    "    i=0\n",
    "    while(i!=len(str)):\n",
    "        if(i%2!=0):\n",
    "            print(i,\"=\",str[i],end=\" \")\n",
    "            \n",
    "        i+=1    \n",
    "      #find vowels\n",
    "def find_vowels(str,vowels,count):\n",
    "    for i in range(0,len(str)):\n",
    "        if str[i] in vowels:\n",
    "            print(str[i],end=\" \")\n",
    "            count+=1\n",
    "    print(count ,end=\" \")      \n",
    "    \n",
    "str=\"walchandINDIA institute of technology,solapur,Maharashtra\"         \n",
    "odd_pos_char(str)        \n",
    "    "
   ]
  },
  {
   "cell_type": "code",
   "execution_count": 16,
   "id": "41b73bf0-c24b-4ce1-aeb1-d24d8aeee833",
   "metadata": {},
   "outputs": [
    {
     "name": "stdout",
     "output_type": "stream",
     "text": [
      "a a I I A i i u e o e o o o a u a a a a 20 "
     ]
    }
   ],
   "source": [
    "#find vowels\n",
    "def find_vowels(str,vowels,count):\n",
    "    for i in range(0,len(str)):\n",
    "        if str[i] in vowels:\n",
    "            print(str[i],end=\" \")\n",
    "            count+=1\n",
    "    print(count ,end=\" \")      \n",
    "    \n",
    "str=\"walchandINDIA institute of technology,solapur,Maharashtra\" \n",
    "vowels=\"aeiouAEIOU\"\n",
    "count=0\n",
    "find_vowels(str,vowels,count)\n"
   ]
  },
  {
   "cell_type": "code",
   "execution_count": 39,
   "id": "927f7797-70b3-46c4-ae60-aae4e5796a2e",
   "metadata": {},
   "outputs": [
    {
     "name": "stdout",
     "output_type": "stream",
     "text": [
      "[3, 5, 7, 8, 9]\n"
     ]
    }
   ],
   "source": [
    "#sort the assending numbers\n",
    "def sort_num(list):\n",
    "    temp=''  \n",
    "    for i in range(0,len(list)):\n",
    "        for j in range(i+1,len(list)):\n",
    "            if(list[i]>list[j]):\n",
    "                temp=list[i]\n",
    "                list[i]=list[j]\n",
    "                list[j]=temp\n",
    "    print(list)  \n",
    "    \n",
    "list=[7,8,9,5,3]\n",
    "sort_num(list)"
   ]
  },
  {
   "cell_type": "code",
   "execution_count": 2,
   "id": "36edc286-e66d-4558-af51-8f95567048aa",
   "metadata": {},
   "outputs": [
    {
     "name": "stdout",
     "output_type": "stream",
     "text": [
      "<class 'list'>\n"
     ]
    }
   ],
   "source": [
    "#sort  number decending\n",
    "def sort_num_dec(list):\n",
    "    temp=''\n",
    "    for i in range(0,len(list)):\n",
    "        for j in range(i+1,len(list)):\n",
    "            if(list[i]<list[i+1]):\n",
    "                temp=list[i]\n",
    "                list[i]=list[i+1]\n",
    "                list[i+1]=temp\n",
    "   print(list)\n",
    "list=[1,8,7,6]\n",
    "sort_num_dec(list)\n",
    "                "
   ]
  },
  {
   "cell_type": "code",
   "execution_count": 9,
   "id": "92a5745b-eed7-4fc2-871d-03f6ab7aa5d2",
   "metadata": {},
   "outputs": [
    {
     "name": "stdout",
     "output_type": "stream",
     "text": [
      "toyota 2016\n"
     ]
    }
   ],
   "source": [
    "class car:\n",
    "    def __init__(self,modelname,year):\n",
    "       self.modelname=modelname\n",
    "       self.year=year\n",
    "    def display(self):\n",
    "       print(self.modelname,self.year)\n",
    "c1=car(\"toyota\",2016)\n",
    "c1.display()"
   ]
  },
  {
   "cell_type": "code",
   "execution_count": 10,
   "id": "8f0e034a-8342-4205-a05e-913ba7f9f066",
   "metadata": {},
   "outputs": [
    {
     "name": "stdout",
     "output_type": "stream",
     "text": [
      "seeza 2001\n"
     ]
    }
   ],
   "source": [
    "class vehicle:\n",
    "    def __init__(self,makemodelname,modelyear):\n",
    "        self.makemodelname=makemodelname\n",
    "        self.modelyear=modelyear\n",
    "    def display(self):\n",
    "        print(self.makemodelname,self.modelyear)\n",
    "v1=vehicle(\"seeza\",2001)\n",
    "v1.display()"
   ]
  },
  {
   "cell_type": "code",
   "execution_count": 31,
   "id": "899ce4f8-5c10-4a28-9e2b-5afec443f591",
   "metadata": {},
   "outputs": [
    {
     "name": "stdout",
     "output_type": "stream",
     "text": [
      "['A', 'B', 'C', 'D', 'E', 'F']\n",
      "['A', 'C', 'D', 'E', 'F']\n"
     ]
    }
   ],
   "source": [
    "\n",
    "    list=[\"A\",\"B\",\"C\",\"D\",\"E\"]\n",
    "    list.append(\"F\")\n",
    "    print(list)\n",
    "    list.pop(1)\n",
    "    print(list)      "
   ]
  },
  {
   "cell_type": "code",
   "execution_count": 33,
   "id": "a06685bf-ab68-43af-a2dc-5412fcb5b327",
   "metadata": {},
   "outputs": [
    {
     "name": "stdout",
     "output_type": "stream",
     "text": [
      "['A', 'E', 'F', '', 'sakshi']\n"
     ]
    }
   ],
   "source": [
    "class library:\n",
    "  \n",
    "    def __init__(self,book1,idx):\n",
    "        self.book1=book1\n",
    "        self.idx=idx\n",
    "    def getbooks(self):\n",
    "        list.append(self.book1)\n",
    "    def removebooks(self):\n",
    "        list.pop(self.idx)\n",
    "l1=library(\"sakshi\",1)    \n",
    "l1.getbooks()\n",
    "l1.removebooks()\n",
    "print(list)"
   ]
  },
  {
   "cell_type": "code",
   "execution_count": 40,
   "id": "1d6406ca-b2ee-4750-91b9-8df9d0019a4f",
   "metadata": {},
   "outputs": [
    {
     "name": "stdout",
     "output_type": "stream",
     "text": [
      "Rodgersds\n",
      "Tommy\n",
      "My name is Rodgersds\n"
     ]
    }
   ],
   "source": [
    "class Dog:\n",
    "    attr1=\"mammal\"\n",
    "    def __init__(self,name):\n",
    "        self.name=name\n",
    "    def speak(self):\n",
    "        print(\"My name is {}\".format(self.name))\n",
    "Rodger=Dog(\"Rodgersds\")\n",
    "Tommy=Dog(\"Tommy\")\n",
    "print(Rodger.name)\n",
    "print(Tommy.name)\n",
    "Rodger.speak()"
   ]
  },
  {
   "cell_type": "code",
   "execution_count": 48,
   "id": "5656a6c6-38d0-409e-930e-2542cb8fc24e",
   "metadata": {},
   "outputs": [
    {
     "name": "stdout",
     "output_type": "stream",
     "text": [
      "[4, 8, 4, 2]\n"
     ]
    }
   ],
   "source": [
    "def even_list(list):\n",
    "    even_l=[]\n",
    "    for i in list:\n",
    "        if(i%2==0):\n",
    "            even_l.append(i)\n",
    "        else:\n",
    "            pass\n",
    "    print(even_l)        \n",
    "list=[5,4,8,9,3,4,2]            \n",
    "even_list(list)\n",
    "      "
   ]
  },
  {
   "cell_type": "code",
   "execution_count": 54,
   "id": "7c5f40b6-da3a-40c2-9b6a-08b9337846ca",
   "metadata": {},
   "outputs": [
    {
     "name": "stdout",
     "output_type": "stream",
     "text": [
      "rahul\n",
      "56\n",
      "My name is rahul\n",
      "Idnumber is 56\n",
      "post inetern \n"
     ]
    }
   ],
   "source": [
    "class Person(object):\n",
    "    def __init__(self,name,idnumber):\n",
    "        self.name=name\n",
    "        self.idnumber=idnumber\n",
    "    def display(self):\n",
    "        print(self.name)\n",
    "        print(self.idnumber)\n",
    "    def details(self):\n",
    "        print(\"My name is {}\".format(self.name))\n",
    "        print(\"Idnumber is {}\".format(self.idnumber))\n",
    "class Employee(Person):\n",
    "    def __init__(self,name,idnumber,salary,post):\n",
    "        self.salary=salary\n",
    "        self.post=post\n",
    "        Person. __init__(self,name,idnumber)#invoking __init__parent class\n",
    "    def details(self):\n",
    "        print(\"My name is {}\".format(self.name))\n",
    "        print(\"Idnumber is {}\".format(self.idnumber))\n",
    "        print(\"post {} \".format(self.post))\n",
    "a=Employee(\"rahul\",56,45,\"inetern\")\n",
    "a.display()\n",
    "a.details()"
   ]
  },
  {
   "cell_type": "code",
   "execution_count": 72,
   "id": "c75cfc34-c6c7-4658-bf8e-939b3eb84603",
   "metadata": {},
   "outputs": [
    {
     "ename": "SyntaxError",
     "evalue": "invalid syntax (712633817.py, line 10)",
     "output_type": "error",
     "traceback": [
      "\u001b[1;36m  Cell \u001b[1;32mIn[72], line 10\u001b[1;36m\u001b[0m\n\u001b[1;33m    class Mom(object):\u001b[0m\n\u001b[1;37m    ^\u001b[0m\n\u001b[1;31mSyntaxError\u001b[0m\u001b[1;31m:\u001b[0m invalid syntax\n"
     ]
    }
   ],
   "source": [
    "class Dad(object):\n",
    "    def __init__(self,name,age):\n",
    "        self.name=name\n",
    "        self.age=age\n",
    "    def display(self):\n",
    "       print(self.name)\n",
    "       print(self.age)\n",
    "    def details(self):\n",
    "       print(\"my name is {} \".format(self.name)\n",
    "class Mom(object):\n",
    "    def __init__(self,name,age):\n",
    "        self.name=name\n",
    "        self.age=age\n",
    "    def display(self):\n",
    "       print(self.name)\n",
    "       print(self.age)\n",
    "    def details(self):\n",
    "       print(\"my name is {} \".format(self.name)\n",
    " class Child(Dad,Mom):\n",
    "      def __init__(self,name,age,height,std):\n",
    "          self.height=height\n",
    "          self.std=std\n",
    "          Dad. __init__(self,name,age)\n",
    "          Mom. __init__(self,name,age)\n",
    "      def display(self):\n",
    "          print(\"my name is {}\".format(self.name))  \n",
    "          print(\"idnumber is {} \".format(self.idnumber))\n",
    "c=Child(\"sakshi\",45,4.5,3)\n",
    "c.display()\n",
    "c.details()\n"
   ]
  },
  {
   "cell_type": "code",
   "execution_count": 85,
   "id": "ca0cd11d-fcad-4b5c-934a-fe6a20eed4bd",
   "metadata": {},
   "outputs": [
    {
     "name": "stdout",
     "output_type": "stream",
     "text": [
      "palindrome\n"
     ]
    },
    {
     "data": {
      "text/plain": [
       "0"
      ]
     },
     "execution_count": 85,
     "metadata": {},
     "output_type": "execute_result"
    }
   ],
   "source": [
    "class Number:\n",
    "    def __init__(self,num):\n",
    "        self.num=num\n",
    "    def palindrome(self):\n",
    "        d=self.num\n",
    "        ans=0\n",
    "        while(self.num!=0):\n",
    "            ans=self.num%10+ans*10\n",
    "            self.num//=10\n",
    "    if(d==ans):\n",
    "        print(\"palindrome\")\n",
    "    else:\n",
    "        print(\" not palindrome\")\n",
    "    def prime(self):\n",
    "        for i in range(2,num):\n",
    "            if(self.num%2==0):\n",
    "                return False\n",
    "            else:\n",
    "                return true\n",
    "    def fibonassi(self):\n",
    "        if( self.num<=1):\n",
    "            return self.num\n",
    "        return fibonassi(self.num-1)+fibonassi(self.num-2)\n",
    "a=Number(10)\n",
    "a.palindrome()\n",
    "a.prime()\n",
    "a.fibonassi()\n",
    "a.fibonassi()\n",
    "                \n",
    "        \n",
    "        \n",
    "        \n",
    "        "
   ]
  },
  {
   "cell_type": "code",
   "execution_count": 82,
   "id": "e12bf618-6722-4981-b14c-f2bd87849949",
   "metadata": {},
   "outputs": [
    {
     "name": "stdout",
     "output_type": "stream",
     "text": [
      "palindrome\n"
     ]
    }
   ],
   "source": [
    "num=121\n",
    "d=num\n",
    "ans=0\n",
    "while(num!=0):\n",
    "    ans=num%10+ans*10\n",
    "    num//=10\n",
    "\n",
    "\n",
    "if(d==ans):\n",
    "    print(\"palindrome\")\n",
    "else:\n",
    "    print(\" not palindrome\")\n",
    "    \n",
    "    \n",
    "    "
   ]
  },
  {
   "cell_type": "code",
   "execution_count": 7,
   "id": "3e8a628c-f20a-4fc3-a1d8-b75dac18f1a1",
   "metadata": {},
   "outputs": [
    {
     "name": "stdin",
     "output_type": "stream",
     "text": [
      "enter a number: 3\n",
      "enter a number: 3\n",
      "enter a number: 6\n"
     ]
    },
    {
     "name": "stdout",
     "output_type": "stream",
     "text": [
      "6\n"
     ]
    }
   ],
   "source": [
    "#write program takes 3num and calculate non-duplicate numbers\n",
    "#if threre are duplicate numbers in input ignore them \n",
    "num1=int(input(\"enter a number:\"))\n",
    "num2=int(input(\"enter a number:\"))\n",
    "num3=int(input(\"enter a number:\"))\n",
    "add=0\n",
    "if(num1==num2 and num2==num3):\n",
    "    add=0\n",
    "    print(add)\n",
    "elif(num1==num2):\n",
    "    add=num3\n",
    "    print(add)    \n",
    "elif(num1==num3):\n",
    "    add=num2\n",
    "    print(add)\n",
    "elif(num2==num3):\n",
    "    num\n",
    "    print(add)\n",
    "else:\n",
    "    add=num1+num2+num3\n",
    "    print(add)"
   ]
  },
  {
   "cell_type": "code",
   "execution_count": null,
   "id": "19ca47ce-7aae-4e90-8296-9593397ca372",
   "metadata": {},
   "outputs": [],
   "source": [
    "list=[1,3,6,6,89,3]\n",
    ".count"
   ]
  },
  {
   "cell_type": "code",
   "execution_count": 14,
   "id": "a9f6dd00-4473-4b2c-b6be-2a61cf3d4ca0",
   "metadata": {},
   "outputs": [
    {
     "name": "stdin",
     "output_type": "stream",
     "text": [
      "enter a string walchandsctcgc\n"
     ]
    },
    {
     "name": "stdout",
     "output_type": "stream",
     "text": [
      "w 1\n",
      "w 0\n",
      "w 0\n",
      "w 0\n",
      "w 0\n",
      "w 0\n",
      "w 0\n",
      "w 0\n",
      "w 0\n",
      "w 0\n",
      "w 0\n",
      "w 0\n",
      "w 0\n",
      "a 0\n",
      "a 0\n",
      "a 0\n",
      "a 1\n",
      "a 0\n",
      "a 0\n",
      "a 0\n",
      "a 0\n",
      "a 0\n",
      "a 0\n",
      "a 0\n",
      "l 0\n",
      "l 0\n",
      "l 0\n",
      "l 0\n",
      "l 0\n",
      "l 0\n",
      "l 0\n",
      "l 0\n",
      "l 0\n",
      "l 0\n",
      "l 0\n",
      "c 0\n",
      "c 0\n",
      "c 0\n",
      "c 0\n",
      "c 0\n",
      "c 1\n",
      "c 1\n",
      "h 1\n",
      "h 0\n",
      "h 0\n",
      "h 0\n",
      "h 0\n",
      "h 0\n",
      "h 0\n",
      "h 0\n",
      "h 0\n",
      "a 0\n",
      "a 0\n",
      "a 0\n",
      "a 0\n",
      "a 0\n",
      "a 0\n",
      "a 0\n",
      "a 0\n",
      "n 0\n",
      "n 0\n",
      "n 0\n",
      "n 0\n",
      "n 0\n",
      "n 0\n",
      "n 0\n",
      "d 0\n",
      "d 0\n",
      "d 0\n",
      "d 0\n",
      "d 0\n",
      "d 0\n",
      "s 0\n",
      "s 0\n",
      "s 0\n",
      "s 0\n",
      "s 0\n",
      "c 0\n",
      "c 1\n",
      "t 1\n",
      "t 0\n",
      "t 0\n",
      "c 0\n",
      "g 1\n"
     ]
    }
   ],
   "source": [
    "#print no of  occurences of character in string:\n",
    "str=input(\"enter a string\")\n",
    "count=1\n",
    "for i in range(0,len(str)-1):\n",
    "    for j in range(i+1,len(str)):\n",
    "        if(str[i]==str[j]):\n",
    "            count+=1\n",
    "        else:\n",
    "            print(str[i],count)\n",
    "            count=0\n",
    "            \n",
    "\n",
    "        \n",
    "        \n",
    "    \n",
    "    "
   ]
  },
  {
   "cell_type": "code",
   "execution_count": 10,
   "id": "2a5a356f-c174-4fdf-ad3e-64686f36e992",
   "metadata": {},
   "outputs": [
    {
     "name": "stdout",
     "output_type": "stream",
     "text": [
      " WcL\u001d",
      "B\u0004C\n"
     ]
    }
   ],
   "source": [
    "import random\n",
    "password=\"\"\n",
    "for i in range(0,8):\n",
    "    new=chr(random.randint(1,100))\n",
    "    password+=new\n",
    "            \n",
    "print(password)            \n",
    "            "
   ]
  },
  {
   "cell_type": "code",
   "execution_count": 18,
   "id": "e9b4e259-47be-4eb3-9519-f7101767bde2",
   "metadata": {},
   "outputs": [
    {
     "name": "stdin",
     "output_type": "stream",
     "text": [
      "enter a number: 15\n"
     ]
    },
    {
     "name": "stdout",
     "output_type": "stream",
     "text": [
      "fizzbuzz\n"
     ]
    }
   ],
   "source": [
    "num=int(input(\"enter a number:\"))\n",
    "if(num%3==0 and num%5==0):\n",
    "        print(\"fizzbuzz\")\n",
    "elif(num%3==0):\n",
    "        print(\"fizz\")\n",
    "elif(num%5==0):\n",
    "        print(\"buzz\")\n",
    "\n"
   ]
  },
  {
   "cell_type": "code",
   "execution_count": 9,
   "id": "361a84e6-226d-4fb2-a078-10deeabaa398",
   "metadata": {},
   "outputs": [
    {
     "name": "stdin",
     "output_type": "stream",
     "text": [
      "enter stone/paper/scissor paper\n"
     ]
    },
    {
     "name": "stdout",
     "output_type": "stream",
     "text": [
      "you lost bz guess is scissor\n"
     ]
    }
   ],
   "source": [
    "import random\n",
    "list=[\"stone\",\"paper\",\"scissor\"]\n",
    "guess=random.choice(list)\n",
    "user_in=input(\"enter stone/paper/scissor\")\n",
    "if(guess==\"stone\"):\n",
    "    if(user_in==\"paper\"):\n",
    "        print(\"you lost bz guess is stone\")\n",
    "    elif(user_in==\"stone\"):\n",
    "        print(\"draw\")\n",
    "    else:\n",
    "        print(\"you lost bz guess is stone\")\n",
    "elif(guess==\"paper\"):\n",
    "    if(user_in==\"stone\"):\n",
    "        print(\"you win bz guess is paper\")\n",
    "    elif(guess==\"scissor\"):\n",
    "        print(\"you win bz guess is scissor\")\n",
    "    else:\n",
    "        print(\"draw\")\n",
    "elif(guess==\"scissor\"):\n",
    "    if(user_in==\"paper\"):\n",
    "        print(\"you lost bz guess is scissor\")\n",
    "    elif(user_in==\"stone\"):\n",
    "        print(\"you win bz guess is stone\")\n",
    "    else:\n",
    "        print(\"draw\")\n",
    "       \n",
    "        \n",
    "\n",
    "\n",
    "\n"
   ]
  },
  {
   "cell_type": "code",
   "execution_count": null,
   "id": "4b6be7d2-6b6f-4cfc-8d75-b0772295d904",
   "metadata": {},
   "outputs": [],
   "source": []
  }
 ],
 "metadata": {
  "kernelspec": {
   "display_name": "Python 3 (ipykernel)",
   "language": "python",
   "name": "python3"
  },
  "language_info": {
   "codemirror_mode": {
    "name": "ipython",
    "version": 3
   },
   "file_extension": ".py",
   "mimetype": "text/x-python",
   "name": "python",
   "nbconvert_exporter": "python",
   "pygments_lexer": "ipython3",
   "version": "3.12.7"
  }
 },
 "nbformat": 4,
 "nbformat_minor": 5
}
