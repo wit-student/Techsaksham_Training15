{
 "cells": [
  {
   "cell_type": "code",
   "execution_count": 1,
   "id": "0cfcb81a-760e-431a-b49e-67376d9caa65",
   "metadata": {
    "scrolled": true
   },
   "outputs": [
    {
     "name": "stdin",
     "output_type": "stream",
     "text": [
      "Enter number 1: 3\n",
      "Enter number 2: 5\n",
      "Enter op +\n"
     ]
    },
    {
     "name": "stdout",
     "output_type": "stream",
     "text": [
      "Addition: 8\n"
     ]
    }
   ],
   "source": [
    "#operation\n",
    "def operation(num1,num2,op):\n",
    "    if(op == '+'):\n",
    "        print(\"Addition:\",num1 + num2)\n",
    "    elif (op == '-'):\n",
    "        print(\"substraction:\",num1-num2)\n",
    "    elif(op == '*'):\n",
    "        print(\"mulit:\",num1 * num2)\n",
    "    elif(op == '//'):\n",
    "        print(\"Divison:\",num1 // num2)\n",
    "    else:\n",
    "        print(\"invalid input\")\n",
    "\n",
    "num1=int(input(\"Enter number 1:\"))\n",
    "num2=int(input(\"Enter number 2:\"))\n",
    "op = input(\"Enter op\")\n",
    "operation(num1,num2,op)"
   ]
  },
  {
   "cell_type": "code",
   "execution_count": 3,
   "id": "aa2e6a97-20b3-4635-a1b9-c8e2a6509ec3",
   "metadata": {
    "scrolled": true
   },
   "outputs": [
    {
     "name": "stdout",
     "output_type": "stream",
     "text": [
      "First argument : Hello\n",
      "Argument *argv : Welcome\n",
      "Argument *argv : to\n",
      "Argument *argv : GeeksforGeeks\n"
     ]
    }
   ],
   "source": [
    "def fun(arg1, *argv):\n",
    "    print(\"First argument :\", arg1)\n",
    "    for arg in argv:\n",
    "        print(\"Argument *argv :\", arg)\n",
    "fun('Hello', 'Welcome', 'to', 'GeeksforGeeks')\n"
   ]
  },
  {
   "cell_type": "code",
   "execution_count": 4,
   "id": "2622b15c-176a-4251-8829-087a24caeb6c",
   "metadata": {
    "scrolled": true
   },
   "outputs": [
    {
     "name": "stdout",
     "output_type": "stream",
     "text": [
      "22\n"
     ]
    }
   ],
   "source": [
    "#operation using multiple value (arg,kwarg)\n",
    "def operation(*args, **kwargs):\n",
    "    # Sum of positional arguments\n",
    "    result = sum(args)\n",
    "    \n",
    "    # Apply operations from keyword arguments\n",
    "    for key, value in kwargs.items():\n",
    "        if key == \"add\":\n",
    "            result += value\n",
    "        elif key == \"subtract\":\n",
    "            result -= value\n",
    "        elif key == \"multiply\":\n",
    "            result *= value\n",
    "        elif key == \"divide\" and value != 0:\n",
    "            result /= value\n",
    "    \n",
    "    return result\n",
    "\n",
    "# Usage\n",
    "print(operation(1, 2, 3, add=5, multiply=2))  # (1+2+3) + 5 * 2 = 20\n"
   ]
  },
  {
   "cell_type": "code",
   "execution_count": 5,
   "id": "96eb1d6a-8c49-46a6-bcfe-26af9b8b23c7",
   "metadata": {},
   "outputs": [],
   "source": [
    "#while \n"
   ]
  },
  {
   "cell_type": "code",
   "execution_count": null,
   "id": "a5787cd9-2e95-487d-ab89-6a76ef1e601d",
   "metadata": {},
   "outputs": [
    {
     "name": "stdout",
     "output_type": "stream",
     "text": [
      "head\n"
     ]
    }
   ],
   "source": [
    "#random module\n",
    "import random as rand\n",
    "rand.random()\n",
    "rand.random()*100\n",
    "rand.randint(1,6)\n",
    "\n",
    "toss = rand.randint(1,6)\n",
    "if toss == 0:\n",
    "    print(\"tail\")\n",
    "else:\n",
    "    print(\"head\")\n",
    "    \n",
    "#<true statement> if condition else <false statement>\n",
    "\n",
    "names = [\"per1\",\"per2\"]\n",
    "rand.choice(names)\n",
    "\n",
    "#bill pay\n",
    "a=input(\"Enter you all friends name:\")\n",
    "list = a\n",
    "rand.choice(list)"
   ]
  },
  {
   "cell_type": "raw",
   "id": "9fb650f9-3f45-4b69-b8f0-1cac300cefa1",
   "metadata": {},
   "source": [
    "import random\n",
    "\n",
    "def decide_payer(friends):\n",
    "    # Generate a random index based on the length of the list\n",
    "    random_index = random.randint(0, len(friends) - 1)\n",
    "    return friends[random_index]\n",
    "\n",
    "# List of friends\n",
    "friends = [\"Alice\", \"Bob\", \"Charlie\", \"David\", \"Eve\"]\n",
    "\n",
    "# Decide who pays the bill\n",
    "payer = decide_payer(friends)\n",
    "print(f\"{payer} will pay the bill today!\")\n",
    "\n"
   ]
  },
  {
   "cell_type": "code",
   "execution_count": 6,
   "id": "e3f0961a-bfdd-479f-85e7-1836593d9b7a",
   "metadata": {
    "scrolled": true
   },
   "outputs": [
    {
     "name": "stdout",
     "output_type": "stream",
     "text": [
      "Welcome to the Guess the Number Game!\n",
      "I'm thinking of a number between 1 and 10.\n"
     ]
    },
    {
     "name": "stdin",
     "output_type": "stream",
     "text": [
      "Enter your guess:  5\n"
     ]
    },
    {
     "name": "stdout",
     "output_type": "stream",
     "text": [
      "Too low! Try again.you have only 2 chances\n"
     ]
    },
    {
     "name": "stdin",
     "output_type": "stream",
     "text": [
      "Enter your guess:  8\n"
     ]
    },
    {
     "name": "stdout",
     "output_type": "stream",
     "text": [
      "Too high! Try again.you have only 1 chances\n"
     ]
    },
    {
     "name": "stdin",
     "output_type": "stream",
     "text": [
      "Enter your guess:  6\n"
     ]
    },
    {
     "name": "stdout",
     "output_type": "stream",
     "text": [
      "🎉 Correct! The number was 6.\n",
      "You guessed it in 0 attempts!\n"
     ]
    }
   ],
   "source": [
    "#guess no.\n",
    "# import random \n",
    "# guess= random.randint(1,100)\n",
    "# count = 5\n",
    "\n",
    "# number = (int(input(\"enter any number:\")))\n",
    "# rand.choice(number)\n",
    "\n",
    "\n",
    "import random\n",
    "\n",
    "def guess_the_number():\n",
    "    # Generate a random number between 1 and 100\n",
    "    secret_number = random.randint(1, 10)\n",
    "    count = 3\n",
    "\n",
    "    print(\"Welcome to the Guess the Number Game!\")\n",
    "    print(\"I'm thinking of a number between 1 and 10.\")\n",
    "\n",
    "    while (True and count!=0):\n",
    "        try:\n",
    "            # Get user input\n",
    "            guess = int(input(\"Enter your guess: \"))\n",
    "            count -= 1\n",
    "\n",
    "            # Check the guess\n",
    "            if guess < secret_number:\n",
    "                print(f\"Too low! Try again.you have only {count} chances\")\n",
    "            elif guess > secret_number:\n",
    "                print(f\"Too high! Try again.you have only {count} chances\")\n",
    "            elif guess == secret_number:\n",
    "                print(f\"🎉 Correct! The number was {secret_number}.\")\n",
    "                print(f\"You guessed it in {count} attempts!\")\n",
    "                \n",
    "            else:\n",
    "                print(\"you lost game\")\n",
    "        except ValueError:\n",
    "            print(\"Please enter a valid number.\")\n",
    "\n",
    "# Run the game\n",
    "guess_the_number()\n",
    "\n",
    "\n"
   ]
  },
  {
   "cell_type": "code",
   "execution_count": null,
   "id": "4883a0a6-c38f-440e-8b2b-3439d119bfb0",
   "metadata": {},
   "outputs": [],
   "source": []
  },
  {
   "cell_type": "code",
   "execution_count": 5,
   "id": "a04a80e1-b032-46f4-9e5c-a37f2fea36b7",
   "metadata": {},
   "outputs": [
    {
     "name": "stdout",
     "output_type": "stream",
     "text": [
      "[1, 2, 3, 4, 5, 6]\n",
      "[1, 2, 3, 4, 5]\n"
     ]
    }
   ],
   "source": [
    "list1=[1,2,3,4,5]\n",
    "list2=list1.copy()\n",
    "list2.append(6)\n",
    "print(list2)\n",
    "print(list1)"
   ]
  },
  {
   "cell_type": "code",
   "execution_count": 7,
   "id": "960c952c-0658-432b-90ac-50d261e491dd",
   "metadata": {},
   "outputs": [
    {
     "name": "stdin",
     "output_type": "stream",
     "text": [
      "enter a string: sakshi\n"
     ]
    },
    {
     "name": "stdout",
     "output_type": "stream",
     "text": [
      "password containing aphabet!\n"
     ]
    },
    {
     "ename": "TypeError",
     "evalue": "ord() expected string of length 1, but int found",
     "output_type": "error",
     "traceback": [
      "\u001b[1;31m---------------------------------------------------------------------------\u001b[0m",
      "\u001b[1;31mTypeError\u001b[0m                                 Traceback (most recent call last)",
      "Cell \u001b[1;32mIn[7], line 11\u001b[0m\n\u001b[0;32m      9\u001b[0m     \u001b[38;5;28mprint\u001b[39m(\u001b[38;5;124m\"\u001b[39m\u001b[38;5;124mpassword containing digit!\u001b[39m\u001b[38;5;124m\"\u001b[39m)\n\u001b[0;32m     10\u001b[0m \u001b[38;5;28;01mfor\u001b[39;00m i \u001b[38;5;129;01min\u001b[39;00m \u001b[38;5;28mrange\u001b[39m(\u001b[38;5;241m0\u001b[39m,\u001b[38;5;28mlen\u001b[39m(\u001b[38;5;28mstr\u001b[39m)):\n\u001b[1;32m---> 11\u001b[0m     \u001b[38;5;28;01mif\u001b[39;00m(\u001b[38;5;28mstr\u001b[39m[i]\u001b[38;5;241m>\u001b[39m\u001b[38;5;241m=\u001b[39m\u001b[38;5;28mord\u001b[39m(\u001b[38;5;241m47\u001b[39m) \u001b[38;5;129;01mand\u001b[39;00m \u001b[38;5;28mstr\u001b[39m[i]\u001b[38;5;241m<\u001b[39m\u001b[38;5;241m=\u001b[39m\u001b[38;5;28mord\u001b[39m(\u001b[38;5;241m58\u001b[39m)):\n\u001b[0;32m     12\u001b[0m         \u001b[38;5;28mprint\u001b[39m(\u001b[38;5;124m\"\u001b[39m\u001b[38;5;124mpassword containing special characters are valid!\u001b[39m\u001b[38;5;124m\"\u001b[39m)\n",
      "\u001b[1;31mTypeError\u001b[0m: ord() expected string of length 1, but int found"
     ]
    }
   ],
   "source": [
    "#length>8<16\n",
    "#arithmetic op,special char,num\n",
    "str=input(\"enter a string:\")\n",
    "if(len(str)>=8 and len(str)<=16):\n",
    "    print(\"your password is valid for length!\",len(str))\n",
    "elif(str.isalpha()):\n",
    "    print(\"password containing aphabet!\")\n",
    "elif(str.isdigit()):\n",
    "    print(\"password containing digit!\")\n",
    "for i in range(0,len(str)):\n",
    "    if(str[i]>=ord(47) and str[i]<=ord(58)):\n",
    "        print(\"password containing special characters are valid!\")\n",
    "        \n",
    "\n"
   ]
  },
  {
   "cell_type": "code",
   "execution_count": null,
   "id": "6e9a1d2a-492f-43dd-924c-1289f26b5ed5",
   "metadata": {},
   "outputs": [],
   "source": []
  }
 ],
 "metadata": {
  "kernelspec": {
   "display_name": "Python 3 (ipykernel)",
   "language": "python",
   "name": "python3"
  },
  "language_info": {
   "codemirror_mode": {
    "name": "ipython",
    "version": 3
   },
   "file_extension": ".py",
   "mimetype": "text/x-python",
   "name": "python",
   "nbconvert_exporter": "python",
   "pygments_lexer": "ipython3",
   "version": "3.12.7"
  }
 },
 "nbformat": 4,
 "nbformat_minor": 5
}
