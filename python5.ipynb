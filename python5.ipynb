{
 "cells": [
  {
   "cell_type": "markdown",
   "id": "9aa1f083-efde-4c09-ac86-fbdaba5f50d5",
   "metadata": {},
   "source": [
    "\n",
    "exeption handling\n"
   ]
  },
  {
   "cell_type": "code",
   "execution_count": 2,
   "id": "f4956e92-a9d9-47d7-83eb-b430d37b71d1",
   "metadata": {},
   "outputs": [
    {
     "name": "stdout",
     "output_type": "stream",
     "text": [
      "5.0\n",
      "error:division by zero is not allowed\n",
      "Inputs:must be number\n"
     ]
    }
   ],
   "source": [
    "def safe_divide(a,b):\n",
    "    try:\n",
    "        result=a/b\n",
    "    except ZeroDivisionError:\n",
    "        return \"error:division by zero is not allowed\"\n",
    "    except TypeError:\n",
    "        return \"Inputs:must be number\"\n",
    "    else:\n",
    "        return result\n",
    "print(safe_divide(10,2))\n",
    "print(safe_divide(10,0))\n",
    "print(safe_divide(2,'a'))\n",
    "\n",
    "\n"
   ]
  },
  {
   "cell_type": "code",
   "execution_count": 5,
   "id": "08c3c76d-330c-40c0-8bc2-c48853d81095",
   "metadata": {},
   "outputs": [
    {
     "ename": "UnboundLocalError",
     "evalue": "cannot access local variable 'file' where it is not associated with a value",
     "output_type": "error",
     "traceback": [
      "\u001b[1;31m---------------------------------------------------------------------------\u001b[0m",
      "\u001b[1;31mUnboundLocalError\u001b[0m                         Traceback (most recent call last)",
      "Cell \u001b[1;32mIn[5], line 12\u001b[0m\n\u001b[0;32m     10\u001b[0m     \u001b[38;5;28;01mfinally\u001b[39;00m:\n\u001b[0;32m     11\u001b[0m         file\u001b[38;5;241m.\u001b[39mclose()\n\u001b[1;32m---> 12\u001b[0m read_file_contents(\u001b[38;5;124m'\u001b[39m\u001b[38;5;124mexample.txt\u001b[39m\u001b[38;5;124m'\u001b[39m)\n",
      "Cell \u001b[1;32mIn[5], line 11\u001b[0m, in \u001b[0;36mread_file_contents\u001b[1;34m(filepath)\u001b[0m\n\u001b[0;32m      9\u001b[0m     \u001b[38;5;28;01mreturn\u001b[39;00m \u001b[38;5;124m\"\u001b[39m\u001b[38;5;124munknown error occured\u001b[39m\u001b[38;5;124m\"\u001b[39m\n\u001b[0;32m     10\u001b[0m \u001b[38;5;28;01mfinally\u001b[39;00m:\n\u001b[1;32m---> 11\u001b[0m     file\u001b[38;5;241m.\u001b[39mclose()\n",
      "\u001b[1;31mUnboundLocalError\u001b[0m: cannot access local variable 'file' where it is not associated with a value"
     ]
    }
   ],
   "source": [
    "def read_file_contents(filepath):\n",
    "    try:\n",
    "        file=open(filepath,'r')\n",
    "        return file.read()\n",
    "        \n",
    "    except FileNotFoundError:\n",
    "        return \"file not found\"\n",
    "    except:\n",
    "        return \"unknown error occured\"\n",
    "    finally:\n",
    "        file.close()\n",
    "read_file_contents('example.txt')        "
   ]
  },
  {
   "cell_type": "code",
   "execution_count": null,
   "id": "1ad9b824-cbb3-43b4-8ecb-1d1b3438fd3b",
   "metadata": {},
   "outputs": [],
   "source": []
  }
 ],
 "metadata": {
  "kernelspec": {
   "display_name": "Python 3 (ipykernel)",
   "language": "python",
   "name": "python3"
  },
  "language_info": {
   "codemirror_mode": {
    "name": "ipython",
    "version": 3
   },
   "file_extension": ".py",
   "mimetype": "text/x-python",
   "name": "python",
   "nbconvert_exporter": "python",
   "pygments_lexer": "ipython3",
   "version": "3.12.7"
  }
 },
 "nbformat": 4,
 "nbformat_minor": 5
}
